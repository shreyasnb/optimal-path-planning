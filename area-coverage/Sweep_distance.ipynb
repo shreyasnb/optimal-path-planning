{
  "nbformat": 4,
  "nbformat_minor": 0,
  "metadata": {
    "colab": {
      "provenance": []
    },
    "kernelspec": {
      "name": "python3",
      "display_name": "Python 3"
    },
    "language_info": {
      "name": "python"
    }
  },
  "cells": [
    {
      "cell_type": "code",
      "execution_count": 3,
      "metadata": {
        "id": "9hm2U29IBD2t"
      },
      "outputs": [],
      "source": [
        "import numpy as np\n",
        "import matplotlib.pyplot  as plt\n"
      ]
    },
    {
      "cell_type": "code",
      "source": [
        "a=[0,0]\n",
        "b=[2,0]\n",
        "c=[0,1]\n",
        "d=[1,2]\n",
        "e=[2,1]\n",
        "points=[a,b,c,d,e]\n",
        "#plot\n",
        "fig = plt.figure()\n",
        "ax = fig.add_subplot()\n",
        "for point in points:\n",
        "    ax.scatter(point[0], point[1])\n"
      ],
      "metadata": {
        "colab": {
          "base_uri": "https://localhost:8080/",
          "height": 450
        },
        "id": "3mKbr5KrBThC",
        "outputId": "e3b8b115-12ce-4540-fccc-41663f09e6ea"
      },
      "execution_count": 4,
      "outputs": [
        {
          "output_type": "display_data",
          "data": {
            "text/plain": [
              "<Figure size 640x480 with 1 Axes>"
            ],
            "image/png": "[encoded data removed]"
          },
          "metadata": {}
        }
      ]
    },
    {
      "cell_type": "code",
      "source": [
        "print(points)\n",
        "for point in points:\n",
        "  print(point[0])"
      ],
      "metadata": {
        "colab": {
          "base_uri": "https://localhost:8080/"
        },
        "id": "OjpdpZ4mGCU8",
        "outputId": "94514895-5bce-4cd3-ac4e-eb64a2d51d8a"
      },
      "execution_count": 5,
      "outputs": [
        {
          "output_type": "stream",
          "name": "stdout",
          "text": [
            "[[0, 0], [2, 0], [0, 1], [1, 2], [2, 1]]\n",
            "0\n",
            "2\n",
            "0\n",
            "1\n",
            "2\n"
          ]
        }
      ]
    },
    {
      "cell_type": "code",
      "source": [
        "#find max distance among all the distances between points in point array\n",
        "max=0\n",
        "for point in points:\n",
        "    for point2 in points:\n",
        "        distance=np.sqrt((point[0]-point2[0])**2+(point[1]-point2[1])**2)\n",
        "        if distance>max:\n",
        "            max=distance\n",
        "            point1=point\n",
        "            point2=point2\n",
        "print(max)\n",
        "print(point1)\n",
        "print(point2)\n",
        "\n",
        "\n",
        "\n"
      ],
      "metadata": {
        "colab": {
          "base_uri": "https://localhost:8080/"
        },
        "id": "NwT3LeeMEcZ_",
        "outputId": "acc01226-5aea-4512-ff4e-e99b45b4a4a8"
      },
      "execution_count": 9,
      "outputs": [
        {
          "output_type": "stream",
          "name": "stdout",
          "text": [
            "2.23606797749979\n",
            "[0, 0]\n",
            "[2, 1]\n"
          ]
        }
      ]
    },
    {
      "cell_type": "markdown",
      "source": [
        "Collect data and get the max ditance from excel"
      ],
      "metadata": {
        "id": "LvThYw8PqLaA"
      }
    },
    {
      "cell_type": "code",
      "source": [
        "import pandas as pd\n",
        "import matplotlib.pyplot as plt\n",
        "df = pd.read_csv('3D_cluster1.csv')\n",
        "df.head()\n",
        "plt.scatter(df['x'],df['y'])"
      ],
      "metadata": {
        "id": "Ka7oiXYAFKta",
        "colab": {
          "base_uri": "https://localhost:8080/",
          "height": 467
        },
        "outputId": "1f71f10f-513b-46b6-d167-e7adeec8a995"
      },
      "execution_count": 15,
      "outputs": [
        {
          "output_type": "execute_result",
          "data": {
            "text/plain": [
              "<matplotlib.collections.PathCollection at 0x7dbb4a1b9b70>"
            ]
          },
          "metadata": {},
          "execution_count": 15
        },
        {
          "output_type": "display_data",
          "data": {
            "text/plain": [
              "<Figure size 640x480 with 1 Axes>"
            ],
            "image/png": "[encoded data removed]"
          },
          "metadata": {}
        }
      ]
    },
    {
      "cell_type": "code",
      "source": [
        "x=df['x']\n",
        "y=df['y']\n"
      ],
      "metadata": {
        "id": "XJIJbIalo_C9"
      },
      "execution_count": 11,
      "outputs": []
    },
    {
      "cell_type": "code",
      "source": [
        "print(x)\n",
        "print(y)"
      ],
      "metadata": {
        "colab": {
          "base_uri": "https://localhost:8080/"
        },
        "id": "HXqrOvLipEPp",
        "outputId": "97adf597-4c93-41dc-dba5-37a4864ac09e"
      },
      "execution_count": 16,
      "outputs": [
        {
          "output_type": "stream",
          "name": "stdout",
          "text": [
            "0      3.352980\n",
            "1     11.244645\n",
            "2      5.768877\n",
            "3     18.540114\n",
            "4     12.636855\n",
            "        ...    \n",
            "95    24.714151\n",
            "96    29.180565\n",
            "97     9.411100\n",
            "98    11.224507\n",
            "99    20.368041\n",
            "Name: x, Length: 100, dtype: float64\n",
            "0     20.277100\n",
            "1     21.898482\n",
            "2     19.368878\n",
            "3     19.843387\n",
            "4     20.346971\n",
            "        ...    \n",
            "95    20.048192\n",
            "96    21.267714\n",
            "97    18.867474\n",
            "98    20.727882\n",
            "99    21.704235\n",
            "Name: y, Length: 100, dtype: float64\n"
          ]
        }
      ]
    },
    {
      "cell_type": "code",
      "source": [
        "#find max distance between the points\n",
        "max_dis=0\n",
        "for i in range(len(x)):\n",
        "    for j in range(len(y)):\n",
        "        distance=np.sqrt((x[i]-x[j])**2+(y[i]-y[j])**2)\n",
        "        if distance>max_dis:\n",
        "            max_dis=distance\n",
        "            point1=x[i],y[i]\n",
        "            point2=x[j],y[j]\n",
        "print(max_dis)\n",
        "print(point1)\n",
        "print(point2)"
      ],
      "metadata": {
        "colab": {
          "base_uri": "https://localhost:8080/"
        },
        "id": "aKKCmALzpGnj",
        "outputId": "337e47fa-716b-4ba9-a3d8-abd6cf1f7375"
      },
      "execution_count": 17,
      "outputs": [
        {
          "output_type": "stream",
          "name": "stdout",
          "text": [
            "41.70922828927569\n",
            "(-5.813657814850082, 19.261413747860075)\n",
            "(35.89521017545863, 19.43477883637821)\n"
          ]
        }
      ]
    },
    {
      "cell_type": "code",
      "source": [],
      "metadata": {
        "id": "hks8WtSgqFTN"
      },
      "execution_count": null,
      "outputs": []
    }
  ]
}